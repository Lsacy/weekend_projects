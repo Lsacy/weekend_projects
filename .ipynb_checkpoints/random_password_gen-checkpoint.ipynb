{
 "cells": [
  {
   "cell_type": "code",
   "execution_count": 1,
   "metadata": {},
   "outputs": [
    {
     "name": "stdout",
     "output_type": "stream",
     "text": [
      "what length would you like for your password to have? choose between 8 and 16: 12\n",
      "your choice of length for the password is 12 digits\n",
      "your randomly generated password is: E&ectAcKKGXB\n"
     ]
    }
   ],
   "source": [
    "import random\n",
    "# user chooses length of password\n",
    "# user chooses the inclusion or exclusion of characters (upper/lowercase) / symbols / numbers\n",
    "# user hits create button\n",
    "\n",
    "charlower = 'abcdefghijklmnopqrstuvwxyz'\n",
    "charlower = list(charlower)\n",
    "charupper = 'ABCDEFGHIJKLMNOPQRSTUVWXYZ'\n",
    "charupper = list(charupper)\n",
    "charsymbols = '!@#$%^\\'&*()?'\n",
    "charsymbols = list(charsymbols)\n",
    "all_char = charlower+charupper+charsymbols\n",
    "\n",
    "while True:\n",
    "    try:\n",
    "        x = input('what length would you like for your password to have? choose between 8 and 16: ')\n",
    "        x = int(x)\n",
    "        if (x >= 8) and (x <= 16): \n",
    "            break\n",
    "        else: \n",
    "            print('please enter a valid number between 8 and 16 as password length:')    \n",
    "    except ValueError:\n",
    "        print('please enter a valid number between 8 and 16 as password length:')\n",
    "    \n",
    "print('your choice of length for the password is', x,'digits')\n",
    "\n",
    "def gen_pass(userinput):\n",
    "    pword = []\n",
    "    finalpass = \"\"\n",
    "    i=0\n",
    "    while i < x:\n",
    "        pword.append(random.choice(all_char))\n",
    "        i += 1\n",
    "    finalpass= ''.join(pword)\n",
    "    print('your randomly generated password is:', finalpass)\n",
    "\n",
    "\n",
    "gen_pass(x)\n",
    "\n",
    "\n",
    "\n",
    "\n",
    "#pword = []\n",
    "#i=1\n",
    "#while i < x:\n",
    "#    pword.append(random.choice(all_char))\n",
    "#    i += 1\n",
    "#    finalpass = \" \"\n",
    "#    finalpass= ''.join(pword)\n",
    "\n",
    "#print('your randomly generated password is:', finalpass)"
   ]
  },
  {
   "cell_type": "code",
   "execution_count": null,
   "metadata": {},
   "outputs": [],
   "source": []
  }
 ],
 "metadata": {
  "kernelspec": {
   "display_name": "Python 3",
   "language": "python",
   "name": "python3"
  },
  "language_info": {
   "codemirror_mode": {
    "name": "ipython",
    "version": 3
   },
   "file_extension": ".py",
   "mimetype": "text/x-python",
   "name": "python",
   "nbconvert_exporter": "python",
   "pygments_lexer": "ipython3",
   "version": "3.8.5"
  }
 },
 "nbformat": 4,
 "nbformat_minor": 4
}
